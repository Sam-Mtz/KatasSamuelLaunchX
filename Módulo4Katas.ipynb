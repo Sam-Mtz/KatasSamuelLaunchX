{
  "cells": [
    {
      "cell_type": "markdown",
      "metadata": {},
      "source": [
        "# Ejercicio 1: Transformar cadenas\n",
        "Hay varias operaciones que puedes realizar en las cadenas cuando las manipulamos. En este ejercicio, usarás métodos de cadena para modificar el texto con hechos sobre la Luna y luego extraerás información para crear un breve resumen.\n",
        "\n",
        "> **Nota**\n",
        "> Dedica unos minutos a tratar de encontrar una solución. Luego desplázate hacia abajo hasta la parte inferior para ver si has logrado compilar el programa de acuerdo con las especificaciones."
      ]
    },
    {
      "cell_type": "markdown",
      "metadata": {},
      "source": [
        "El texto con el que trabajarás es el siguiente: "
      ]
    },
    {
      "cell_type": "code",
      "execution_count": 23,
      "metadata": {},
      "outputs": [],
      "source": [
        "text = \"\"\"Interesting facts about the Moon. The Moon is Earth's only satellite. There are several interesting facts about the Moon and how it affects life here on Earth. \n",
        "On average, the Moon moves 4cm away from the Earth every year. This yearly drift is not significant enough to cause immediate effects on Earth. The highest daylight temperature of the Moon is 127 C.\"\"\""
      ]
    },
    {
      "cell_type": "markdown",
      "metadata": {},
      "source": [
        "Primero, divide el texto en cada oración para trabajar con su contenido:"
      ]
    },
    {
      "cell_type": "code",
      "execution_count": 24,
      "metadata": {},
      "outputs": [],
      "source": [
        "sentences = text.split('. ')\n"
      ]
    },
    {
      "cell_type": "markdown",
      "metadata": {},
      "source": [
        "Ahora, define algunas palabras clave para búsqueda que te ayudarán a determinar si una oración contiene un hecho."
      ]
    },
    {
      "cell_type": "code",
      "execution_count": 25,
      "metadata": {},
      "outputs": [],
      "source": [
        "# Define las palabras pista: average, temperature y distance suenan bien\n",
        "key_words = ['average', 'temperature', 'distance']"
      ]
    },
    {
      "cell_type": "markdown",
      "metadata": {},
      "source": [
        "Cre un bucle para imprimir solo datos sobre la Luna que estén relacionados con las palabras clave definidas anteriormente:"
      ]
    },
    {
      "cell_type": "code",
      "execution_count": 26,
      "metadata": {},
      "outputs": [
        {
          "name": "stdout",
          "output_type": "stream",
          "text": [
            "\n",
            "On average, the Moon moves 4cm away from the Earth every year\n",
            "The highest daylight temperature of the Moon is 127 C.\n"
          ]
        }
      ],
      "source": [
        "# Ciclo for para recorrer la cadena\n",
        "for i in key_words:\n",
        "    for j in sentences:\n",
        "        if i in j:\n",
        "            print(j)\n",
        "            break\n"
      ]
    },
    {
      "cell_type": "markdown",
      "metadata": {},
      "source": [
        "Finalmente, actualiza el bucle(ciclo) para cambiar _C_ a _Celsius_:"
      ]
    },
    {
      "cell_type": "code",
      "execution_count": 27,
      "metadata": {},
      "outputs": [
        {
          "name": "stdout",
          "output_type": "stream",
          "text": [
            "\n",
            "On average, the Moon moves 4cm away from the Earth every year\n",
            "The highest daylight temperature of the Moon is 127 Celsius.\n"
          ]
        }
      ],
      "source": [
        "for i in key_words:\n",
        "    for j in sentences:\n",
        "        if i in j:\n",
        "            print(j.replace(' C', ' Celsius'))\n",
        "            break\n"
      ]
    },
    {
      "cell_type": "markdown",
      "metadata": {},
      "source": [
        "> Recuerda: Lo importante es intentarlo, puedes auxiliarte de internet, libros, etc. El objetivo de una kata es la comprobación de la comprensión de la lección y su aplicación inmediata a la resolución de problemas. Go for it!"
      ]
    },
    {
      "cell_type": "markdown",
      "metadata": {},
      "source": [
        "# Ejercicio 2: Formateando Cadenas\n",
        "\n",
        "Saber cómo dar formato a las cadenas es esencial cuando se presenta información de un programa. Hay algunas maneras diferentes de lograr esto en Python. En este ejercicio, se utilizan variables que contienen datos clave sobre la gravedad en varias lunas y luego se utilizan para dar formato e imprimir la información.\n",
        "\n",
        "El formato tiene que acomodar información sobre otras lunas, por lo que debe ser genérico.\n",
        "\n",
        "En lugar de reemplazar las variables en una cadena larga como parte de un párrafo, utiliza la información para presentarla en un formato tabular. El resultado debería verse así:\n",
        "\n",
        "```\n",
        "Gravity Facts about Ganymede\n",
        "-------------------------------------------------------------------------------\n",
        "Planet Name: Mars\n",
        "Gravity on Ganymede: 1.4300000000000002 m/s2\n",
        "```"
      ]
    },
    {
      "cell_type": "code",
      "execution_count": 28,
      "metadata": {},
      "outputs": [],
      "source": [
        "# Datos con los que vas a trabajar\n",
        "name = \"Moon\"\n",
        "gravity = 0.00162 # in kms\n",
        "planet = \"Earth\""
      ]
    },
    {
      "cell_type": "markdown",
      "metadata": {},
      "source": [
        "Primero, crea un título para el texto. Debido a que este texto trata sobre la gravedad en la Tierra y la Luna, úsalo para crear un título significativo. Utiliza las variables en lugar de escribir."
      ]
    },
    {
      "cell_type": "code",
      "execution_count": 54,
      "metadata": {},
      "outputs": [
        {
          "name": "stdout",
          "output_type": "stream",
          "text": [
            "      Earth and Moon gravity      \n",
            " - * - * - * - * - * - * - * - * - \n"
          ]
        }
      ],
      "source": [
        "# Creamos el título\n",
        "title = f'      {planet} and {name} gravity      \\n - * - * - * - * - * - * - * - * - '\n",
        "print(title)"
      ]
    },
    {
      "cell_type": "markdown",
      "metadata": {},
      "source": [
        "Ahora crea una plantilla de cadena multilínea para contener el resto de la información. En lugar de usar kilómetros, debes convertir la distancia a metros multiplicando por 1,000."
      ]
    },
    {
      "cell_type": "code",
      "execution_count": 56,
      "metadata": {},
      "outputs": [
        {
          "name": "stdout",
          "output_type": "stream",
          "text": [
            "Planet Name: Earth\n",
            "Gravity on Moon: 1.6199999999999999 m/s2\n"
          ]
        }
      ],
      "source": [
        "facts = f'Planet Name: {planet}\\nGravity on {name}: {gravity * 1000} m/s2'\n",
        "print(facts)"
      ]
    },
    {
      "cell_type": "markdown",
      "metadata": {},
      "source": [
        "Finalmente, usa ambas variables para unir el título y los hechos."
      ]
    },
    {
      "cell_type": "code",
      "execution_count": 60,
      "metadata": {},
      "outputs": [
        {
          "name": "stdout",
          "output_type": "stream",
          "text": [
            "      Earth and Moon gravity      \n",
            " - * - * - * - * - * - * - * - * -  \n",
            "Planet Name: Earth\n",
            "Gravity on Moon: 1.6199999999999999 m/s2\n"
          ]
        }
      ],
      "source": [
        "# Unión de ambas cadenas\n",
        "info = f'{title} \\n{facts}'\n",
        "print(info)"
      ]
    },
    {
      "cell_type": "markdown",
      "metadata": {},
      "source": [
        "Ahora usa información de una luna diferente para ver si la plantilla todavía funciona.\n",
        "\n",
        "Datos muestra: \n",
        "```\n",
        "planeta = 'Marte '\n",
        "gravedad  = 0.00143\n",
        "nombre = 'Ganímedes'\n",
        "```"
      ]
    },
    {
      "cell_type": "code",
      "execution_count": 61,
      "metadata": {},
      "outputs": [
        {
          "name": "stdout",
          "output_type": "stream",
          "text": [
            "      Earth and Moon gravity      \n",
            " - * - * - * - * - * - * - * - * -  \n",
            "Planet Name: Earth\n",
            "Gravity on Moon: 1.6199999999999999 m/s2\n"
          ]
        }
      ],
      "source": [
        "# Comprueba la plantilla\n",
        "planet = 'Marte'\n",
        "gravity  = 0.00143\n",
        "name = 'Ganímedes'\n",
        "# print(nombre_plantilla)\n",
        "info = f'{title} \\n{facts}'\n",
        "print(info)"
      ]
    },
    {
      "cell_type": "markdown",
      "metadata": {},
      "source": [
        "La salida no muestra información sobre Marte. Todavía muestra información sobre la Luna. Esto sucede porque las cadenas f están ansiosas en su evaluación, por lo que las variables una vez asignadas no se pueden reasignar. Para evitar este problema, vuelva a hacer la plantilla para utilizar .format():"
      ]
    },
    {
      "cell_type": "code",
      "execution_count": 70,
      "metadata": {},
      "outputs": [
        {
          "name": "stdout",
          "output_type": "stream",
          "text": [
            "    Marte and Ganímedes gravity      \n",
            " - * - * - * - * - * - * - * - * - \n",
            "Planet Name: Marte\n",
            "Gravity on Ganímedes: 1.4300000000000002 m/s2\n"
          ]
        }
      ],
      "source": [
        "# Nueva plantilla\n",
        "info_2 =  \"\"\"    {0} and {1} gravity      \\n - * - * - * - * - * - * - * - * - \\nPlanet Name: {0}\\nGravity on {1}: {2} m/s2\"\"\".format(planet, name, gravity*1000) \n",
        "print(info_2)"
      ]
    },
    {
      "cell_type": "markdown",
      "metadata": {},
      "source": [
        "Debido a que .format() no permite expresiones, la gravedad en Ganímedes es incorrecta. Asegúrese de que la operación se realiza fuera de la plantilla de formato e imprima de nuevo para ver el resultado de trabajo."
      ]
    },
    {
      "cell_type": "code",
      "execution_count": 69,
      "metadata": {},
      "outputs": [
        {
          "name": "stdout",
          "output_type": "stream",
          "text": [
            "    Marte and Ganímedes gravity      \n",
            " - * - * - * - * - * - * - * - * - \n",
            "Planet Name: Marte\n",
            "Gravity on Ganímedes: 1.4300000000000002 m/s2\n"
          ]
        }
      ],
      "source": [
        "# Pista: print(nueva_plantilla.format(variables))\n",
        "info_2 =  \"\"\"    {0} and {1} gravity      \\n - * - * - * - * - * - * - * - * - \\nPlanet Name: {0}\\nGravity on {1}: {2} m/s2\"\"\".format(planet, name, gravity*1000) \n",
        "print(info_2)"
      ]
    }
  ],
  "metadata": {
    "interpreter": {
      "hash": "502cd6c3b6c9e666d195e1caff9d64ea12bf644e547a4c8fae84812082c54b6f"
    },
    "kernel_info": {
      "name": "conda-env-py37_default-py"
    },
    "kernelspec": {
      "display_name": "py37_default",
      "language": "python",
      "name": "python3"
    },
    "language_info": {
      "codemirror_mode": {
        "name": "ipython",
        "version": 3
      },
      "file_extension": ".py",
      "mimetype": "text/x-python",
      "name": "python",
      "nbconvert_exporter": "python",
      "pygments_lexer": "ipython3",
      "version": "3.10.0"
    },
    "nteract": {
      "version": "nteract-front-end@1.0.0"
    },
    "orig_nbformat": 4
  },
  "nbformat": 4,
  "nbformat_minor": 2
}
