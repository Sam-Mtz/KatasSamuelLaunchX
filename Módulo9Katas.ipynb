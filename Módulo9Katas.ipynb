{
  "cells": [
    {
      "cell_type": "markdown",
      "metadata": {},
      "source": [
        "# Ejercicio: Uso de funciones en Python"
      ]
    },
    {
      "cell_type": "markdown",
      "metadata": {},
      "source": [
        "### Ejercicio 1: Trabajar con argumentos en funciones\n",
        "\n",
        "Los argumentos requeridos en las funciones se utilizan cuando las funciones necesitan que esos argumentos funcionen correctamente. En este ejercicio, construirás un informe de combustible que requiere información de varias ubicaciones de combustible en todo el cohete.\n",
        "\n"
      ]
    },
    {
      "cell_type": "markdown",
      "metadata": {},
      "source": [
        "> **TIP**\n",
        "> Dedica unos minutos para tratar de encontrar una solución. Luego desplázate hacia abajo hasta la parte inferior para ver si has logrado compilar el programa de acuerdo con las especificaciones\n",
        "\n",
        "Comienza por crear una función que necesite tres lecturas de combustible y devuelva un informe:"
      ]
    },
    {
      "cell_type": "code",
      "execution_count": 11,
      "metadata": {},
      "outputs": [],
      "source": [
        "# Función para leer 3 tanques de combustible y muestre el promedio\n",
        "def fuel_report(tanq1, tanq2, tanq3):\n",
        "    print(f'--- Fuel Report ---\\n\\nDeposit one: {tanq1}\\nDeposit two: {tanq2}\\nDeposit three: {tanq3}' )"
      ]
    },
    {
      "cell_type": "markdown",
      "metadata": {},
      "source": [
        "Ahora que hemos definido la función de informes, vamos a comprobarlo. Para esta misión, los tanques no están llenos:"
      ]
    },
    {
      "cell_type": "code",
      "execution_count": 12,
      "metadata": {},
      "outputs": [
        {
          "name": "stdout",
          "output_type": "stream",
          "text": [
            "--- Fuel Report ---\n",
            "\n",
            "Deposit one: 50\n",
            "Deposit two: 80\n",
            "Deposit three: 35\n"
          ]
        }
      ],
      "source": [
        "\n",
        "# Llamamos a la función que genera el reporte print(funcion(tanque1, tanque2, tanque3))\n",
        "fuel_report(50,80,35)"
      ]
    },
    {
      "cell_type": "markdown",
      "metadata": {},
      "source": [
        "En lugar de simplemente crear el informe, la función también está calculando el promedio. Mejora la legibilidad extrayendo el cálculo promedio de la función en una nueva función para que el promedio se pueda hacer de forma independiente:"
      ]
    },
    {
      "cell_type": "code",
      "execution_count": 13,
      "metadata": {},
      "outputs": [],
      "source": [
        "# Función promedio\n",
        "def aver_fuel(tanq1, tanq2, tanq3): \n",
        "    return (tanq1 + tanq2 + tanq3)/3    "
      ]
    },
    {
      "cell_type": "markdown",
      "metadata": {},
      "source": [
        "Ahora actualiza la función de informes para llamando a la nueva función del promedio:\n"
      ]
    },
    {
      "cell_type": "code",
      "execution_count": 14,
      "metadata": {},
      "outputs": [
        {
          "name": "stdout",
          "output_type": "stream",
          "text": [
            "--- Fuel Report ---\n",
            "\n",
            "Deposit one: 50\n",
            "Deposit two: 80\n",
            "Deposit three: 35\n",
            "Average fuel per deposit: 55.0\n"
          ]
        }
      ],
      "source": [
        "# Actualiza la función\n",
        "def fuel_report(tanq1, tanq2, tanq3):\n",
        "    average = aver_fuel(tanq1,tanq2,tanq3)\n",
        "    print(f'--- Fuel Report ---\\n\\nDeposit one: {tanq1}\\nDeposit two: {tanq2}\\nDeposit three: {tanq3}\\nAverage fuel per deposit: {average}' )\n",
        "\n",
        "fuel_report(50, 80, 35)"
      ]
    },
    {
      "cell_type": "markdown",
      "metadata": {},
      "source": [
        "> Recuerda: Lo importante es intentarlo, puedes auxiliarte de internet, libros, etc. El objetivo de una kata es la comprobación de la comprensión de la lección y su aplicación inmediata a la resolución de problemas. Go for it!"
      ]
    },
    {
      "cell_type": "markdown",
      "metadata": {},
      "source": [
        "## Ejercicio 2: Trabajo con argumentos de palabra clave"
      ]
    },
    {
      "cell_type": "markdown",
      "metadata": {},
      "source": [
        "### Ejercicio : Trabajar con argumentos de palabras clave en funciones\n",
        "En este ejercicio, construirás un informe de cohete que requiere varias piezas de información, como el tiempo hasta el destino, el combustible a la izquierda y el nombre del destino. Comienza por crear una función que creará un informe preciso de la misión:"
      ]
    },
    {
      "cell_type": "code",
      "execution_count": 30,
      "metadata": {},
      "outputs": [
        {
          "name": "stdout",
          "output_type": "stream",
          "text": [
            "Reporte de la misión\n",
            "\n",
            "Duración del vuelo 50 min\n",
            "Destino: Mars\n",
            "Combustible(ltr): 80\n",
            "None\n"
          ]
        }
      ],
      "source": [
        "# Función con un informe preciso de la misión. Considera hora de prelanzamiento, tiempo de vuelo, destino, tanque externo y tanque interno\n",
        "def mission_report(hora_prelanzamiento, tiempo_de_vuelo, destino, tanque_externo, tanque_interno):\n",
        "    print(f'Reporte de la misión\\n\\nDuración del vuelo {hora_prelanzamiento + tiempo_de_vuelo} min\\nDestino: {destino}\\nCombustible(ltr): {tanque_externo+tanque_interno}')\n",
        "\n",
        "print(mission_report(10,40,'Mars', 50, 30))"
      ]
    },
    {
      "cell_type": "markdown",
      "metadata": {},
      "source": [
        "La función es problemática porque no se puede adaptar para minutos adicionales o tanques adicionales de combustible. Hazlo más flexible permitiendo cualquier número de pasos basados en el tiempo y cualquier número de tanques. En lugar de usar `*args` y `**kwargs`, aprovecha el hecho de que puedes usar cualquier nombre que desees. Asegurate que la función sea más legible mediante el uso de nombres de variables que están asociados con las entradas, como `*minutes` y `**fuel_reservoirs`:"
      ]
    },
    {
      "cell_type": "code",
      "execution_count": 31,
      "metadata": {},
      "outputs": [
        {
          "name": "stdout",
          "output_type": "stream",
          "text": [
            "Reporte de la misión\n",
            "\n",
            "Tiempo de vuelo: 60\n",
            "Destino: Mars\n",
            "Combustible(ltr): 80\n",
            "None\n"
          ]
        }
      ],
      "source": [
        "# Escribe tu nueva función de reporte considerando lo anterior\n",
        "def mission_report(destino, *minutes , **fuel_reservoirs):\n",
        "\n",
        "    print(f'Reporte de la misión\\n\\nTiempo de vuelo: {sum(minutes)}\\nDestino: {destino}\\nCombustible(ltr): {sum(fuel_reservoirs.values())}')\n",
        "\n",
        "\n",
        "print(mission_report('Mars', 50, 10, tanque_interno=50, tanque_externo=30))"
      ]
    },
    {
      "cell_type": "markdown",
      "metadata": {},
      "source": [
        "Debido a que el combustible que queda en los tanques es específico de cada tanque, actualiza la función para usar el nombre de cada tanque en el informe:"
      ]
    },
    {
      "cell_type": "code",
      "execution_count": 40,
      "metadata": {},
      "outputs": [
        {
          "name": "stdout",
          "output_type": "stream",
          "text": [
            "Reporte de la misión\n",
            "\n",
            "Tiempo de vuelo: 60\n",
            "Destino: Mars\n",
            "Combustible(ltr): 80\n",
            "tanque_interno: 50 ltr\n",
            "tanque_externo: 30 ltr\n",
            "\n"
          ]
        }
      ],
      "source": [
        "# Escribe tu nueva función\n",
        "def mission_report(destino, *minutes , **fuel_reservoirs):\n",
        "    #fuel_tanks={}\n",
        "    #for i in fuel_reservoirs:\n",
        "        #print(i)\n",
        "\n",
        "    report=(f'Reporte de la misión\\n\\nTiempo de vuelo: {sum(minutes)}\\nDestino: {destino}\\nCombustible(ltr): {sum(fuel_reservoirs.values())}\\n')\n",
        "    for tank_name, litros in fuel_reservoirs.items():\n",
        "        report += f'{tank_name}: {litros} ltr\\n'\n",
        "    return report    \n",
        "\n",
        "print(mission_report('Mars', 50, 10, tanque_interno=50, tanque_externo=30))"
      ]
    },
    {
      "cell_type": "code",
      "execution_count": null,
      "metadata": {},
      "outputs": [
        {
          "name": "stdout",
          "output_type": "stream",
          "text": [
            "\n",
            "    Mission to Moon\n",
            "    Total travel time: 74 minutes\n",
            "    Total fuel left: 500000\n",
            "    main tank --> 300000 gallons left\n",
            "external tank --> 200000 gallons left\n",
            "\n"
          ]
        }
      ],
      "source": [
        "# Escribe tu nueva función\n",
        "\n",
        "def mission_report(destination, *minutes, **fuel_reservoirs):\n",
        "    main_report = f\"\"\"\n",
        "    Mission to {destination}\n",
        "    Total travel time: {sum(minutes)} minutes\n",
        "    Total fuel left: {sum(fuel_reservoirs.values())}\n",
        "    \"\"\"\n",
        "    for tank_name, gallons in fuel_reservoirs.items():\n",
        "        main_report += f\"{tank_name} tank --> {gallons} gallons left\\n\"\n",
        "    return main_report\n",
        "\n",
        "print(mission_report(\"Moon\", 8, 11, 55, main=300000, external=200000))"
      ]
    }
  ],
  "metadata": {
    "interpreter": {
      "hash": "205095b8b86ea82a021a8fc2ffba2b3bc9f8d0be25999901963b225939f75778"
    },
    "kernelspec": {
      "display_name": "Python 3.8.10 64-bit ('tmp': conda)",
      "name": "python3"
    },
    "language_info": {
      "codemirror_mode": {
        "name": "ipython",
        "version": 3
      },
      "file_extension": ".py",
      "mimetype": "text/x-python",
      "name": "python",
      "nbconvert_exporter": "python",
      "pygments_lexer": "ipython3",
      "version": "3.10.0"
    },
    "nteract": {
      "version": "nteract-front-end@1.0.0"
    },
    "orig_nbformat": 4
  },
  "nbformat": 4,
  "nbformat_minor": 2
}
